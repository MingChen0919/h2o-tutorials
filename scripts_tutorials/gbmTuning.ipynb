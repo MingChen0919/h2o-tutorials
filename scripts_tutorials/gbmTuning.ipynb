{
 "cells": [
  {
   "cell_type": "markdown",
   "metadata": {},
   "source": [
    "# GBM Tuning\n",
    "\n",
    "This script is meant to show an example of gbm tuning.  It is based off of this blog post: http://blog.h2o.ai/2016/06/h2o-gbm-tuning-tutorial-for-r/\n"
   ]
  },
  {
   "cell_type": "code",
   "execution_count": 1,
   "metadata": {},
   "outputs": [
    {
     "name": "stdout",
     "output_type": "stream",
     "text": [
      "Checking whether there is an H2O instance running at http://localhost:54321 ..... not found.\n",
      "Attempting to start a local H2O server...\n",
      "  Java Version: openjdk version \"1.8.0_222\"; OpenJDK Runtime Environment (AdoptOpenJDK)(build 1.8.0_222-b10); OpenJDK 64-Bit Server VM (AdoptOpenJDK)(build 25.222-b10, mixed mode)\n",
      "  Starting server from /Users/mingchen/anaconda3/lib/python3.7/site-packages/h2o/backend/bin/h2o.jar\n",
      "  Ice root: /var/folders/mv/122vn3nn0kx39q71g1sx5wkh0000gn/T/tmprn_w6ugy\n",
      "  JVM stdout: /var/folders/mv/122vn3nn0kx39q71g1sx5wkh0000gn/T/tmprn_w6ugy/h2o_mingchen_started_from_python.out\n",
      "  JVM stderr: /var/folders/mv/122vn3nn0kx39q71g1sx5wkh0000gn/T/tmprn_w6ugy/h2o_mingchen_started_from_python.err\n",
      "  Server is running at http://127.0.0.1:54321\n",
      "Connecting to H2O server at http://127.0.0.1:54321 ... successful.\n",
      "Warning: Your H2O cluster version is too old (4 months and 26 days)! Please download and install the latest version from http://h2o.ai/download/\n"
     ]
    },
    {
     "data": {
      "text/html": [
       "<div style=\"overflow:auto\"><table style=\"width:50%\"><tr><td>H2O cluster uptime:</td>\n",
       "<td>02 secs</td></tr>\n",
       "<tr><td>H2O cluster timezone:</td>\n",
       "<td>America/New_York</td></tr>\n",
       "<tr><td>H2O data parsing timezone:</td>\n",
       "<td>UTC</td></tr>\n",
       "<tr><td>H2O cluster version:</td>\n",
       "<td>3.26.0.2</td></tr>\n",
       "<tr><td>H2O cluster version age:</td>\n",
       "<td>4 months and 26 days !!!</td></tr>\n",
       "<tr><td>H2O cluster name:</td>\n",
       "<td>H2O_from_python_mingchen_dferk8</td></tr>\n",
       "<tr><td>H2O cluster total nodes:</td>\n",
       "<td>1</td></tr>\n",
       "<tr><td>H2O cluster free memory:</td>\n",
       "<td>7.111 Gb</td></tr>\n",
       "<tr><td>H2O cluster total cores:</td>\n",
       "<td>16</td></tr>\n",
       "<tr><td>H2O cluster allowed cores:</td>\n",
       "<td>16</td></tr>\n",
       "<tr><td>H2O cluster status:</td>\n",
       "<td>accepting new members, healthy</td></tr>\n",
       "<tr><td>H2O connection url:</td>\n",
       "<td>http://127.0.0.1:54321</td></tr>\n",
       "<tr><td>H2O connection proxy:</td>\n",
       "<td>None</td></tr>\n",
       "<tr><td>H2O internal security:</td>\n",
       "<td>False</td></tr>\n",
       "<tr><td>H2O API Extensions:</td>\n",
       "<td>Amazon S3, XGBoost, Algos, AutoML, Core V3, Core V4</td></tr>\n",
       "<tr><td>Python version:</td>\n",
       "<td>3.7.3 final</td></tr></table></div>"
      ],
      "text/plain": [
       "--------------------------  ---------------------------------------------------\n",
       "H2O cluster uptime:         02 secs\n",
       "H2O cluster timezone:       America/New_York\n",
       "H2O data parsing timezone:  UTC\n",
       "H2O cluster version:        3.26.0.2\n",
       "H2O cluster version age:    4 months and 26 days !!!\n",
       "H2O cluster name:           H2O_from_python_mingchen_dferk8\n",
       "H2O cluster total nodes:    1\n",
       "H2O cluster free memory:    7.111 Gb\n",
       "H2O cluster total cores:    16\n",
       "H2O cluster allowed cores:  16\n",
       "H2O cluster status:         accepting new members, healthy\n",
       "H2O connection url:         http://127.0.0.1:54321\n",
       "H2O connection proxy:\n",
       "H2O internal security:      False\n",
       "H2O API Extensions:         Amazon S3, XGBoost, Algos, AutoML, Core V3, Core V4\n",
       "Python version:             3.7.3 final\n",
       "--------------------------  ---------------------------------------------------"
      ]
     },
     "metadata": {},
     "output_type": "display_data"
    }
   ],
   "source": [
    "# Launch H2O Cluster\n",
    "import h2o\n",
    "h2o.init(nthreads = -1)"
   ]
  },
  {
   "cell_type": "code",
   "execution_count": 2,
   "metadata": {},
   "outputs": [
    {
     "name": "stdout",
     "output_type": "stream",
     "text": [
      "Parse progress: |█████████████████████████████████████████████████████████| 100%\n"
     ]
    }
   ],
   "source": [
    "# Import data\n",
    "df = h2o.import_file(path = \"../data/titanic.csv\")"
   ]
  },
  {
   "cell_type": "code",
   "execution_count": 3,
   "metadata": {},
   "outputs": [
    {
     "data": {
      "text/plain": [
       "{'pclass': 'int',\n",
       " 'survived': 'int',\n",
       " 'name': 'string',\n",
       " 'sex': 'enum',\n",
       " 'age': 'real',\n",
       " 'sibsp': 'int',\n",
       " 'parch': 'int',\n",
       " 'ticket': 'int',\n",
       " 'fare': 'real',\n",
       " 'cabin': 'enum',\n",
       " 'embarked': 'enum',\n",
       " 'boat': 'int',\n",
       " 'body': 'int',\n",
       " 'home.dest': 'enum'}"
      ]
     },
     "execution_count": 3,
     "metadata": {},
     "output_type": "execute_result"
    }
   ],
   "source": [
    "df.types"
   ]
  },
  {
   "cell_type": "code",
   "execution_count": 4,
   "metadata": {},
   "outputs": [],
   "source": [
    "# Convert some integer columns to factor/categorical\n",
    "df[\"survived\"] = df[\"survived\"].asfactor()\n",
    "df[\"ticket\"] = df[\"ticket\"].asfactor()"
   ]
  },
  {
   "cell_type": "code",
   "execution_count": 5,
   "metadata": {},
   "outputs": [],
   "source": [
    "# Set predictors and response variable\n",
    "response = \"survived\"\n",
    "\n",
    "predictors = df.columns\n",
    "predictors.remove(\"survived\")\n",
    "predictors.remove(\"name\")\n",
    "predictors.remove(\"ticket\")\n",
    "predictors.remove(\"home.dest\")"
   ]
  },
  {
   "cell_type": "code",
   "execution_count": 6,
   "metadata": {},
   "outputs": [],
   "source": [
    "# Split the data for machine learning\n",
    "splits = df.split_frame(ratios = [0.6, 0.2], \n",
    "                        destination_frames = [\"train.hex\", \"valid.hex\", \"test.hex\"],\n",
    "                        seed = 1234)\n",
    "\n",
    "train = splits[0]\n",
    "valid = splits[1]\n",
    "test = splits[2]"
   ]
  },
  {
   "cell_type": "code",
   "execution_count": 7,
   "metadata": {},
   "outputs": [
    {
     "name": "stdout",
     "output_type": "stream",
     "text": [
      "glm Model Build progress: |███████████████████████████████████████████████| 100%\n"
     ]
    }
   ],
   "source": [
    "# Establish a Baseline\n",
    "\n",
    "from h2o.estimators import H2OGeneralizedLinearEstimator\n",
    "glm_model = H2OGeneralizedLinearEstimator(family = \"binomial\", \n",
    "                                          model_id = \"glm_default.hex\")\n",
    "glm_model.train(x = predictors, y = response, training_frame = train, validation_frame = valid)"
   ]
  },
  {
   "cell_type": "code",
   "execution_count": 8,
   "metadata": {},
   "outputs": [
    {
     "name": "stdout",
     "output_type": "stream",
     "text": [
      "drf Model Build progress: |███████████████████████████████████████████████| 100%\n"
     ]
    }
   ],
   "source": [
    "from h2o.estimators import H2ORandomForestEstimator\n",
    "drf_model = H2ORandomForestEstimator(model_id = \"drf_default.hex\")\n",
    "drf_model.train(x = predictors, y = response, training_frame = train, validation_frame = valid)"
   ]
  },
  {
   "cell_type": "code",
   "execution_count": 9,
   "metadata": {},
   "outputs": [
    {
     "name": "stdout",
     "output_type": "stream",
     "text": [
      "gbm Model Build progress: |███████████████████████████████████████████████| 100%\n"
     ]
    }
   ],
   "source": [
    "from h2o.estimators import H2OGradientBoostingEstimator\n",
    "gbm_model = H2OGradientBoostingEstimator(model_id = \"gbm_default.hex\")\n",
    "gbm_model.train(x = predictors, y = response, training_frame = train, validation_frame = valid)"
   ]
  },
  {
   "cell_type": "code",
   "execution_count": 10,
   "metadata": {},
   "outputs": [
    {
     "name": "stdout",
     "output_type": "stream",
     "text": [
      "deeplearning Model Build progress: |██████████████████████████████████████| 100%\n"
     ]
    }
   ],
   "source": [
    "from h2o.estimators import H2ODeepLearningEstimator\n",
    "dl_model = H2ODeepLearningEstimator(model_id = \"dl_default.hex\")\n",
    "dl_model.train(x = predictors, y = response, training_frame = train, validation_frame = valid)"
   ]
  },
  {
   "cell_type": "code",
   "execution_count": 11,
   "metadata": {},
   "outputs": [
    {
     "data": {
      "text/html": [
       "<div style=\"overflow:auto\"><table style=\"width:50%\"><tr><td><b>Model</b></td>\n",
       "<td><b>Training AUC</b></td>\n",
       "<td><b>Validation AUC</b></td></tr>\n",
       "<tr><td>GLM</td>\n",
       "<td>0.8610997</td>\n",
       "<td>0.8381798</td></tr>\n",
       "<tr><td>DRF</td>\n",
       "<td>0.9612218</td>\n",
       "<td>0.9588053</td></tr>\n",
       "<tr><td>GBM</td>\n",
       "<td>0.9864197</td>\n",
       "<td>0.9519865</td></tr>\n",
       "<tr><td>DL</td>\n",
       "<td>0.9596162</td>\n",
       "<td>0.9253029</td></tr></table></div>"
      ],
      "text/plain": [
       "Model      Training AUC    Validation AUC\n",
       "-------  --------------  ----------------\n",
       "GLM            0.8611            0.83818\n",
       "DRF            0.961222          0.958805\n",
       "GBM            0.98642           0.951986\n",
       "DL             0.959616          0.925303"
      ]
     },
     "metadata": {},
     "output_type": "display_data"
    },
    {
     "data": {
      "text/html": [
       "<div style=\"overflow:auto\"><table style=\"width:50%\"><tr><td><b>Model</b></td>\n",
       "<td><b>Training AUC</b></td>\n",
       "<td><b>Validation AUC</b></td></tr>\n",
       "<tr><td>GLM</td>\n",
       "<td>0.8610997</td>\n",
       "<td>0.8381798</td></tr>\n",
       "<tr><td>DRF</td>\n",
       "<td>0.9612218</td>\n",
       "<td>0.9588053</td></tr>\n",
       "<tr><td>GBM</td>\n",
       "<td>0.9864197</td>\n",
       "<td>0.9519865</td></tr>\n",
       "<tr><td>DL</td>\n",
       "<td>0.9596162</td>\n",
       "<td>0.9253029</td></tr></table></div>"
      ],
      "text/plain": []
     },
     "execution_count": 11,
     "metadata": {},
     "output_type": "execute_result"
    }
   ],
   "source": [
    "header = [\"Model\", \"Training AUC\", \"Validation AUC\"]\n",
    "table = [\n",
    "    [\"GLM\", glm_model.auc(train = True), glm_model.auc(valid = True)],\n",
    "    [\"DRF\", drf_model.auc(train = True), drf_model.auc(valid = True)],\n",
    "    [\"GBM\", gbm_model.auc(train = True), gbm_model.auc(valid = True)],\n",
    "    [\"DL\", dl_model.auc(train = True), dl_model.auc(valid = True)]\n",
    "]\n",
    "h2o.display.H2ODisplay(table, header)"
   ]
  },
  {
   "cell_type": "code",
   "execution_count": 12,
   "metadata": {},
   "outputs": [
    {
     "name": "stdout",
     "output_type": "stream",
     "text": [
      "PartialDependencePlot progress: |█████████████████████████████████████████| 100%\n",
      "PartialDependence: Partial Dependence Plot of model gbm_default.hex on column 'sex'\n",
      "\n"
     ]
    },
    {
     "data": {
      "text/html": [
       "<div style=\"overflow:auto\"><table style=\"width:50%\"><tr><td><b>sex</b></td>\n",
       "<td><b>mean_response</b></td>\n",
       "<td><b>stddev_response</b></td>\n",
       "<td><b>std_error_mean_response</b></td></tr>\n",
       "<tr><td>female</td>\n",
       "<td>0.5205867</td>\n",
       "<td>0.3412708</td>\n",
       "<td>0.0122195</td></tr>\n",
       "<tr><td>male</td>\n",
       "<td>0.3389699</td>\n",
       "<td>0.4109822</td>\n",
       "<td>0.0147155</td></tr></table></div>"
      ],
      "text/plain": [
       "sex     mean_response    stddev_response    std_error_mean_response\n",
       "------  ---------------  -----------------  -------------------------\n",
       "female  0.520587         0.341271           0.0122195\n",
       "male    0.33897          0.410982           0.0147155"
      ]
     },
     "metadata": {},
     "output_type": "display_data"
    },
    {
     "name": "stdout",
     "output_type": "stream",
     "text": [
      "PartialDependence: Partial Dependence Plot of model gbm_default.hex on column 'age'\n",
      "\n"
     ]
    },
    {
     "data": {
      "text/html": [
       "<div style=\"overflow:auto\"><table style=\"width:50%\"><tr><td><b>age</b></td>\n",
       "<td><b>mean_response</b></td>\n",
       "<td><b>stddev_response</b></td>\n",
       "<td><b>std_error_mean_response</b></td></tr>\n",
       "<tr><td>0.4167</td>\n",
       "<td>0.4164890</td>\n",
       "<td>0.3995985</td>\n",
       "<td>0.0143079</td></tr>\n",
       "<tr><td>4.3947684</td>\n",
       "<td>0.4164890</td>\n",
       "<td>0.3995985</td>\n",
       "<td>0.0143079</td></tr>\n",
       "<tr><td>8.3728368</td>\n",
       "<td>0.4125693</td>\n",
       "<td>0.4004596</td>\n",
       "<td>0.0143388</td></tr>\n",
       "<tr><td>12.3509053</td>\n",
       "<td>0.3798753</td>\n",
       "<td>0.4205084</td>\n",
       "<td>0.0150566</td></tr>\n",
       "<tr><td>16.3289737</td>\n",
       "<td>0.3818186</td>\n",
       "<td>0.4157351</td>\n",
       "<td>0.0148857</td></tr>\n",
       "<tr><td>20.3070421</td>\n",
       "<td>0.3807028</td>\n",
       "<td>0.4159284</td>\n",
       "<td>0.0148926</td></tr>\n",
       "<tr><td>24.2851105</td>\n",
       "<td>0.3820088</td>\n",
       "<td>0.4170167</td>\n",
       "<td>0.0149316</td></tr>\n",
       "<tr><td>28.2631789</td>\n",
       "<td>0.3820121</td>\n",
       "<td>0.4170215</td>\n",
       "<td>0.0149318</td></tr>\n",
       "<tr><td>32.2412474</td>\n",
       "<td>0.3791999</td>\n",
       "<td>0.4232424</td>\n",
       "<td>0.0151545</td></tr>\n",
       "<tr><td>36.2193158</td>\n",
       "<td>0.3658808</td>\n",
       "<td>0.4246647</td>\n",
       "<td>0.0152054</td></tr>\n",
       "<tr><td>40.1973842</td>\n",
       "<td>0.3637216</td>\n",
       "<td>0.4247821</td>\n",
       "<td>0.0152096</td></tr>\n",
       "<tr><td>44.1754526</td>\n",
       "<td>0.3637216</td>\n",
       "<td>0.4247821</td>\n",
       "<td>0.0152096</td></tr>\n",
       "<tr><td>48.1535211</td>\n",
       "<td>0.3637216</td>\n",
       "<td>0.4247821</td>\n",
       "<td>0.0152096</td></tr>\n",
       "<tr><td>52.1315895</td>\n",
       "<td>0.3637216</td>\n",
       "<td>0.4247821</td>\n",
       "<td>0.0152096</td></tr>\n",
       "<tr><td>56.1096579</td>\n",
       "<td>0.3637216</td>\n",
       "<td>0.4247821</td>\n",
       "<td>0.0152096</td></tr>\n",
       "<tr><td>60.0877263</td>\n",
       "<td>0.3637216</td>\n",
       "<td>0.4247821</td>\n",
       "<td>0.0152096</td></tr>\n",
       "<tr><td>64.0657947</td>\n",
       "<td>0.3637216</td>\n",
       "<td>0.4247821</td>\n",
       "<td>0.0152096</td></tr>\n",
       "<tr><td>68.0438632</td>\n",
       "<td>0.3637216</td>\n",
       "<td>0.4247821</td>\n",
       "<td>0.0152096</td></tr>\n",
       "<tr><td>72.0219316</td>\n",
       "<td>0.3637216</td>\n",
       "<td>0.4247821</td>\n",
       "<td>0.0152096</td></tr>\n",
       "<tr><td>76.0</td>\n",
       "<td>0.3637216</td>\n",
       "<td>0.4247821</td>\n",
       "<td>0.0152096</td></tr></table></div>"
      ],
      "text/plain": [
       "age      mean_response    stddev_response    std_error_mean_response\n",
       "-------  ---------------  -----------------  -------------------------\n",
       "0.4167   0.416489         0.399598           0.0143079\n",
       "4.39477  0.416489         0.399598           0.0143079\n",
       "8.37284  0.412569         0.40046            0.0143388\n",
       "12.3509  0.379875         0.420508           0.0150566\n",
       "16.329   0.381819         0.415735           0.0148857\n",
       "20.307   0.380703         0.415928           0.0148926\n",
       "24.2851  0.382009         0.417017           0.0149316\n",
       "28.2632  0.382012         0.417021           0.0149318\n",
       "32.2412  0.3792           0.423242           0.0151545\n",
       "36.2193  0.365881         0.424665           0.0152054\n",
       "40.1974  0.363722         0.424782           0.0152096\n",
       "44.1755  0.363722         0.424782           0.0152096\n",
       "48.1535  0.363722         0.424782           0.0152096\n",
       "52.1316  0.363722         0.424782           0.0152096\n",
       "56.1097  0.363722         0.424782           0.0152096\n",
       "60.0877  0.363722         0.424782           0.0152096\n",
       "64.0658  0.363722         0.424782           0.0152096\n",
       "68.0439  0.363722         0.424782           0.0152096\n",
       "72.0219  0.363722         0.424782           0.0152096\n",
       "76       0.363722         0.424782           0.0152096"
      ]
     },
     "metadata": {},
     "output_type": "display_data"
    },
    {
     "data": {
      "text/plain": [
       "[, ]"
      ]
     },
     "execution_count": 12,
     "metadata": {},
     "output_type": "execute_result"
    },
    {
     "data": {
      "image/png": "[encoded data removed]",
      "text/plain": [
       "<Figure size 504x720 with 2 Axes>"
      ]
     },
     "metadata": {
      "needs_background": "light"
     },
     "output_type": "display_data"
    }
   ],
   "source": [
    "# Investigate GBM Model\n",
    "%matplotlib inline\n",
    "gbm_model.partial_plot(train, cols = [\"sex\", \"age\"], plot = True, plot_stddev = False)"
   ]
  },
  {
   "cell_type": "code",
   "execution_count": 13,
   "metadata": {},
   "outputs": [
    {
     "name": "stdout",
     "output_type": "stream",
     "text": [
      "gbm Model Build progress: |███████████████████████████████████████████████| 100%\n"
     ]
    }
   ],
   "source": [
    "# Decrease Learning Rate\n",
    "gbm_learn_rate = H2OGradientBoostingEstimator(learn_rate = 0.05,\n",
    "                                              model_id = \"gbm_learnrate.hex\")\n",
    "gbm_learn_rate.train(x = predictors, y = response, training_frame = train, validation_frame = valid)"
   ]
  },
  {
   "cell_type": "code",
   "execution_count": 14,
   "metadata": {},
   "outputs": [
    {
     "name": "stdout",
     "output_type": "stream",
     "text": [
      "Learn Rate AUC: 0.9489151873767259\n"
     ]
    }
   ],
   "source": [
    "print(\"Learn Rate AUC: \" + str(gbm_learn_rate.auc(valid = True)))"
   ]
  },
  {
   "cell_type": "code",
   "execution_count": 15,
   "metadata": {},
   "outputs": [
    {
     "name": "stdout",
     "output_type": "stream",
     "text": [
      "gbm Model Build progress: |███████████████████████████████████████████████| 100%\n"
     ]
    }
   ],
   "source": [
    "# Use Early Stopping\n",
    "\n",
    "# Early stopping once the moving average (window length = 5) of the validation AUC \n",
    "# doesn’t improve by at least 0.1% for 5 consecutive scoring events\n",
    "    \n",
    "gbm_early_stopping = H2OGradientBoostingEstimator(learn_rate = 0.05,\n",
    "                                                  score_tree_interval = 10, \n",
    "                                                  stopping_rounds = 5, \n",
    "                                                  stopping_metric = \"AUC\", \n",
    "                                                  stopping_tolerance = 0.001,\n",
    "                                                  ntrees = 5000,\n",
    "                                                  model_id = \"gbm_early_stopping.hex\")\n",
    "gbm_early_stopping.train(x = predictors, y = response, training_frame = train, validation_frame = valid)"
   ]
  },
  {
   "cell_type": "code",
   "execution_count": 16,
   "metadata": {},
   "outputs": [
    {
     "name": "stdout",
     "output_type": "stream",
     "text": [
      "Early Stopping AUC: 0.9663285432516201\n"
     ]
    }
   ],
   "source": [
    "print(\"Early Stopping AUC: \" + str(gbm_early_stopping.auc(valid = True)))"
   ]
  },
  {
   "cell_type": "code",
   "execution_count": 17,
   "metadata": {},
   "outputs": [
    {
     "name": "stdout",
     "output_type": "stream",
     "text": [
      "gbm Grid Build progress: |████████████████████████████████████████████████| 100%\n"
     ]
    }
   ],
   "source": [
    "# Import H2O Grid Search\n",
    "from h2o.grid.grid_search import H2OGridSearch\n",
    "\n",
    "# Use Cartesian Grid Search to find best max depth\n",
    "# Max depth can have a big impact on training time so we will first narrow down the best max depths\n",
    "\n",
    "hyper_params = {'max_depth' : list(range(1, 25, 2))}\n",
    "\n",
    "gbm_grid = H2OGradientBoostingEstimator(\n",
    "    ## more trees is better if the learning rate is small enough \n",
    "    ## here, use \"more than enough\" trees - we have early stopping\n",
    "    ntrees = 5000, \n",
    "    \n",
    "    ## smaller learning rate is better\n",
    "    ## since we have learning_rate_annealing, we can afford to start with a bigger learning rate\n",
    "    learn_rate = 0.05,                                                         \n",
    "    \n",
    "    ## learning rate annealing: learning_rate shrinks by 1% after every tree \n",
    "    ## (use 1.00 to disable, but then lower the learning_rate)\n",
    "    learn_rate_annealing = 0.99,                                               \n",
    "    \n",
    "    ## sample 80% of rows per tree\n",
    "    sample_rate = 0.8,                                                       \n",
    "   \n",
    "    ## sample 80% of columns per split\n",
    "    col_sample_rate = 0.8, \n",
    "    \n",
    "    ## fix a random number generator seed for reproducibility\n",
    "    seed = 1234,                                                             \n",
    "    \n",
    "    ## early stopping once the validation AUC doesn't improve by at least 0.01% for 5 consecutive scoring events\n",
    "    stopping_rounds = 5,\n",
    "    stopping_tolerance = 0.001,\n",
    "    stopping_metric = \"AUC\", \n",
    "  \n",
    "    ## score every 10 trees to make early stopping reproducible (it depends on the scoring interval)\n",
    "    score_tree_interval = 10    \n",
    ")\n",
    "\n",
    "# Build grid search with previously made GBM and hyper parameters\n",
    "grid = H2OGridSearch(gbm_grid, \n",
    "                     hyper_params, \n",
    "                     grid_id = 'depth_grid',\n",
    "                     search_criteria = {'strategy': \"Cartesian\"})\n",
    "\n",
    "# Train grid search\n",
    "grid.train(x = predictors, \n",
    "           y = response,\n",
    "           training_frame = train,\n",
    "           validation_frame = valid)"
   ]
  },
  {
   "cell_type": "code",
   "execution_count": 18,
   "metadata": {},
   "outputs": [
    {
     "name": "stdout",
     "output_type": "stream",
     "text": [
      "     max_depth            model_ids              logloss\n",
      "0            9   depth_grid_model_5  0.18463402843485072\n",
      "1            7   depth_grid_model_4  0.18609106185412674\n",
      "2           17   depth_grid_model_9  0.18892249312330292\n",
      "3           21  depth_grid_model_11  0.18892249312330292\n",
      "4           15   depth_grid_model_8  0.18892249312330292\n",
      "5           19  depth_grid_model_10  0.18892249312330292\n",
      "6           23  depth_grid_model_12  0.18892249312330292\n",
      "7           11   depth_grid_model_6  0.18897180107140718\n",
      "8           13   depth_grid_model_7  0.18913936378975674\n",
      "9            5   depth_grid_model_3  0.18990421176736144\n",
      "10           3   depth_grid_model_2   0.1967327643235344\n",
      "11           1   depth_grid_model_1  0.22832543144500095\n"
     ]
    },
    {
     "data": {
      "text/plain": []
     },
     "execution_count": 18,
     "metadata": {},
     "output_type": "execute_result"
    }
   ],
   "source": [
    "## by default, display the grid search results sorted by increasing logloss (since this is a classification task)\n",
    "\n",
    "grid   "
   ]
  },
  {
   "cell_type": "code",
   "execution_count": 19,
   "metadata": {},
   "outputs": [
    {
     "data": {
      "text/html": [
       "<div>\n",
       "<style scoped>\n",
       "    .dataframe tbody tr th:only-of-type {\n",
       "        vertical-align: middle;\n",
       "    }\n",
       "\n",
       "    .dataframe tbody tr th {\n",
       "        vertical-align: top;\n",
       "    }\n",
       "\n",
       "    .dataframe thead th {\n",
       "        text-align: right;\n",
       "    }\n",
       "</style>\n",
       "<table border=\"1\" class=\"dataframe\">\n",
       "  <thead>\n",
       "    <tr style=\"text-align: right;\">\n",
       "      <th></th>\n",
       "      <th></th>\n",
       "      <th>max_depth</th>\n",
       "      <th>model_ids</th>\n",
       "      <th>auc</th>\n",
       "    </tr>\n",
       "  </thead>\n",
       "  <tbody>\n",
       "    <tr>\n",
       "      <th>0</th>\n",
       "      <td></td>\n",
       "      <td>11</td>\n",
       "      <td>depth_grid_model_6</td>\n",
       "      <td>0.9601296139757678</td>\n",
       "    </tr>\n",
       "    <tr>\n",
       "      <th>1</th>\n",
       "      <td></td>\n",
       "      <td>17</td>\n",
       "      <td>depth_grid_model_9</td>\n",
       "      <td>0.9597351366582136</td>\n",
       "    </tr>\n",
       "    <tr>\n",
       "      <th>2</th>\n",
       "      <td></td>\n",
       "      <td>21</td>\n",
       "      <td>depth_grid_model_11</td>\n",
       "      <td>0.9597351366582136</td>\n",
       "    </tr>\n",
       "    <tr>\n",
       "      <th>3</th>\n",
       "      <td></td>\n",
       "      <td>15</td>\n",
       "      <td>depth_grid_model_8</td>\n",
       "      <td>0.9597351366582136</td>\n",
       "    </tr>\n",
       "  </tbody>\n",
       "</table>\n",
       "</div>"
      ],
      "text/plain": [
       "    max_depth            model_ids                 auc\n",
       "0          11   depth_grid_model_6  0.9601296139757678\n",
       "1          17   depth_grid_model_9  0.9597351366582136\n",
       "2          21  depth_grid_model_11  0.9597351366582136\n",
       "3          15   depth_grid_model_8  0.9597351366582136"
      ]
     },
     "execution_count": 19,
     "metadata": {},
     "output_type": "execute_result"
    }
   ],
   "source": [
    "## sort the grid models by decreasing AUC\n",
    "\n",
    "sorted_grid = grid.get_grid(sort_by=\"auc\", decreasing = True)    \n",
    "sorted_grid.sorted_metric_table()[0:4]"
   ]
  },
  {
   "cell_type": "code",
   "execution_count": 20,
   "metadata": {},
   "outputs": [],
   "source": [
    "## find the range of max_depth for the top 5 models\n",
    "top_depths = sorted_grid.sorted_metric_table()['max_depth'][0:4] \n",
    "new_min = int(min(top_depths, key = int))\n",
    "new_max = int(max(top_depths, key = int))"
   ]
  },
  {
   "cell_type": "code",
   "execution_count": 21,
   "metadata": {},
   "outputs": [],
   "source": [
    "# Final Random Discrete Hyper-parameterization\n",
    "import math\n",
    "\n",
    "hyper_params_tune = {'max_depth': list(range(new_min, new_max + 1, 1)),\n",
    "                     'sample_rate': [x/100. for x in range(20, 101)],\n",
    "                     'col_sample_rate': [x/100. for x in range(20, 101)],\n",
    "                     'min_rows': [2**x for x in range(0, int(math.log(train.nrow, 2) - 1) + 1)],\n",
    "                     'nbins_cats': [2**x for x in range(4, 13, 1)],\n",
    "                     'histogram_type': [\"UniformAdaptive\", \"QuantilesGlobal\"]\n",
    "                    }\n",
    "\n",
    "search_criteria_tune = {\n",
    "    ## Random grid search\n",
    "    'strategy': \"RandomDiscrete\",\n",
    "    \n",
    "    ## limit the runtime to 60 minutes\n",
    "    'max_runtime_secs': 3600,         \n",
    "  \n",
    "    ## build no more than 100 models\n",
    "    'max_models': 100,                  \n",
    "  \n",
    "    ## random number generator seed to make sampling of parameter combinations reproducible\n",
    "    'seed': 1234,                        \n",
    "  \n",
    "    ## early stopping once the leaderboard of the top 5 models is converged to 0.1% relative difference\n",
    "    'stopping_rounds': 5,                \n",
    "    'stopping_metric': \"AUC\",\n",
    "    'stopping_tolerance': 0.001\n",
    "}"
   ]
  },
  {
   "cell_type": "code",
   "execution_count": 22,
   "metadata": {},
   "outputs": [
    {
     "name": "stdout",
     "output_type": "stream",
     "text": [
      "gbm Grid Build progress: |████████████████████████████████████████████████| 100%\n"
     ]
    }
   ],
   "source": [
    "gbm_final_grid = H2OGradientBoostingEstimator(\n",
    "    ## more trees is better if the learning rate is small enough \n",
    "    ## here, use \"more than enough\" trees - we have early stopping\n",
    "    ntrees = 5000, \n",
    "    \n",
    "    ## smaller learning rate is better\n",
    "    ## since we have learning_rate_annealing, we can afford to start with a bigger learning rate\n",
    "    learn_rate = 0.05,                                                         \n",
    "    \n",
    "    ## learning rate annealing: learning_rate shrinks by 1% after every tree \n",
    "    ## (use 1.00 to disable, but then lower the learning_rate)\n",
    "    learn_rate_annealing = 0.99,      \n",
    "    \n",
    "    ## fix a random number generator seed for reproducibility\n",
    "    seed = 1234,                                                             \n",
    "    \n",
    "    ## early stopping once the validation AUC doesn't improve by at least 0.01% for 5 consecutive scoring events\n",
    "    stopping_rounds = 5,\n",
    "    stopping_tolerance = 0.001,\n",
    "    stopping_metric = \"AUC\", \n",
    "    \n",
    "    ## early stopping based on timeout (no model should take more than 1 hour - modify as needed)\n",
    "    max_runtime_secs = 3600,\n",
    "  \n",
    "    ## score every 10 trees to make early stopping reproducible (it depends on the scoring interval)\n",
    "    score_tree_interval = 10    \n",
    ")\n",
    "\n",
    "final_grid = H2OGridSearch(gbm_final_grid, \n",
    "                           hyper_params = hyper_params_tune,\n",
    "                           grid_id = 'final_grid',\n",
    "                           search_criteria = search_criteria_tune)\n",
    "\n",
    "# Train final grid search\n",
    "final_grid.train(x = predictors, \n",
    "                 y = response,\n",
    "                 training_frame = train,\n",
    "                 validation_frame = valid)"
   ]
  },
  {
   "cell_type": "code",
   "execution_count": 23,
   "metadata": {},
   "outputs": [
    {
     "data": {
      "text/html": [
       "<div>\n",
       "<style scoped>\n",
       "    .dataframe tbody tr th:only-of-type {\n",
       "        vertical-align: middle;\n",
       "    }\n",
       "\n",
       "    .dataframe tbody tr th {\n",
       "        vertical-align: top;\n",
       "    }\n",
       "\n",
       "    .dataframe thead th {\n",
       "        text-align: right;\n",
       "    }\n",
       "</style>\n",
       "<table border=\"1\" class=\"dataframe\">\n",
       "  <thead>\n",
       "    <tr style=\"text-align: right;\">\n",
       "      <th></th>\n",
       "      <th></th>\n",
       "      <th>col_sample_rate</th>\n",
       "      <th>histogram_type</th>\n",
       "      <th>max_depth</th>\n",
       "      <th>min_rows</th>\n",
       "      <th>nbins_cats</th>\n",
       "      <th>sample_rate</th>\n",
       "      <th>model_ids</th>\n",
       "      <th>auc</th>\n",
       "    </tr>\n",
       "  </thead>\n",
       "  <tbody>\n",
       "    <tr>\n",
       "      <th>0</th>\n",
       "      <td></td>\n",
       "      <td>0.53</td>\n",
       "      <td>QuantilesGlobal</td>\n",
       "      <td>15</td>\n",
       "      <td>8.0</td>\n",
       "      <td>128</td>\n",
       "      <td>0.99</td>\n",
       "      <td>final_grid_model_87</td>\n",
       "      <td>0.972414764722457</td>\n",
       "    </tr>\n",
       "    <tr>\n",
       "      <th>1</th>\n",
       "      <td></td>\n",
       "      <td>0.5</td>\n",
       "      <td>QuantilesGlobal</td>\n",
       "      <td>21</td>\n",
       "      <td>4.0</td>\n",
       "      <td>4096</td>\n",
       "      <td>0.57</td>\n",
       "      <td>final_grid_model_91</td>\n",
       "      <td>0.9706677937447168</td>\n",
       "    </tr>\n",
       "    <tr>\n",
       "      <th>2</th>\n",
       "      <td></td>\n",
       "      <td>0.71</td>\n",
       "      <td>QuantilesGlobal</td>\n",
       "      <td>14</td>\n",
       "      <td>16.0</td>\n",
       "      <td>4096</td>\n",
       "      <td>0.92</td>\n",
       "      <td>final_grid_model_11</td>\n",
       "      <td>0.9696534234995773</td>\n",
       "    </tr>\n",
       "    <tr>\n",
       "      <th>3</th>\n",
       "      <td></td>\n",
       "      <td>0.88</td>\n",
       "      <td>QuantilesGlobal</td>\n",
       "      <td>11</td>\n",
       "      <td>16.0</td>\n",
       "      <td>64</td>\n",
       "      <td>0.71</td>\n",
       "      <td>final_grid_model_46</td>\n",
       "      <td>0.9693716539870386</td>\n",
       "    </tr>\n",
       "  </tbody>\n",
       "</table>\n",
       "</div>"
      ],
      "text/plain": [
       "    col_sample_rate   histogram_type max_depth min_rows nbins_cats  \\\n",
       "0              0.53  QuantilesGlobal        15      8.0        128   \n",
       "1               0.5  QuantilesGlobal        21      4.0       4096   \n",
       "2              0.71  QuantilesGlobal        14     16.0       4096   \n",
       "3              0.88  QuantilesGlobal        11     16.0         64   \n",
       "\n",
       "  sample_rate            model_ids                 auc  \n",
       "0        0.99  final_grid_model_87   0.972414764722457  \n",
       "1        0.57  final_grid_model_91  0.9706677937447168  \n",
       "2        0.92  final_grid_model_11  0.9696534234995773  \n",
       "3        0.71  final_grid_model_46  0.9693716539870386  "
      ]
     },
     "execution_count": 23,
     "metadata": {},
     "output_type": "execute_result"
    }
   ],
   "source": [
    "## Sort the grid models by AUC\n",
    "\n",
    "sorted_final_grid = final_grid.get_grid(sort_by = \"auc\", decreasing = True)    \n",
    "sorted_final_grid.sorted_metric_table()[0:4]"
   ]
  },
  {
   "cell_type": "code",
   "execution_count": 24,
   "metadata": {},
   "outputs": [
    {
     "name": "stdout",
     "output_type": "stream",
     "text": [
      "AUC on validation: 0.972414764722457\n",
      "AUC on test: 0.9762125016519096\n"
     ]
    }
   ],
   "source": [
    "# Final Test Scoring\n",
    "# How well does our best model do on the final hold out dataset\n",
    "\n",
    "best_model = h2o.get_model(sorted_final_grid.sorted_metric_table()['model_ids'][0])\n",
    "performance_best_model = best_model.model_performance(test)\n",
    "\n",
    "print(\"AUC on validation: \" + str(best_model.auc(valid = True)))\n",
    "print(\"AUC on test: \" + str(performance_best_model.auc()))"
   ]
  },
  {
   "cell_type": "code",
   "execution_count": 25,
   "metadata": {},
   "outputs": [
    {
     "name": "stdout",
     "output_type": "stream",
     "text": [
      "H2O session _sid_b5d6 closed.\n"
     ]
    }
   ],
   "source": [
    "# Shutdown h2o cluster\n",
    "h2o.cluster().shutdown()"
   ]
  },
  {
   "cell_type": "code",
   "execution_count": null,
   "metadata": {},
   "outputs": [],
   "source": []
  }
 ],
 "metadata": {
  "kernelspec": {
   "display_name": "Python 3",
   "language": "python",
   "name": "python3"
  },
  "language_info": {
   "codemirror_mode": {
    "name": "ipython",
    "version": 3
   },
   "file_extension": ".py",
   "mimetype": "text/x-python",
   "name": "python",
   "nbconvert_exporter": "python",
   "pygments_lexer": "ipython3",
   "version": "3.7.3"
  }
 },
 "nbformat": 4,
 "nbformat_minor": 2
}
